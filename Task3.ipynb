{
 "cells": [
  {
   "cell_type": "code",
   "execution_count": 8,
   "id": "4d30d9f5",
   "metadata": {},
   "outputs": [
    {
     "name": "stdout",
     "output_type": "stream",
     "text": [
      "10\n",
      "10 barev\n",
      "100\n"
     ]
    }
   ],
   "source": [
    "class Myclass:\n",
    "    def __init__(self,x): #\n",
    "        self.x=x #\n",
    "    def func(self): # Metod\n",
    "        return self.x #\n",
    "    def show(self): # Metod\n",
    "        return f'{self.x}'+' barev'\n",
    "    \n",
    "    def func1(self):\n",
    "        return self.x**2\n",
    "    \n",
    "\n",
    "    \n",
    "    \n",
    "p=Myclass(10)\n",
    "print(p.func())\n",
    "print(p.show())\n",
    "print(p.func1())    "
   ]
  },
  {
   "cell_type": "code",
   "execution_count": 58,
   "id": "5de8a881",
   "metadata": {},
   "outputs": [
    {
     "name": "stdout",
     "output_type": "stream",
     "text": [
      "37\n",
      "Everything is ok\n"
     ]
    }
   ],
   "source": [
    "import math as m \n",
    "class Myclass:\n",
    "    def __init__(self,bodytem):\n",
    "        self.bodytem=bodytem\n",
    "    def func(self):\n",
    "        if 120<=m.ceil(self.bodytem*m.pi)<=128:\n",
    "            return  'You Have coronavirus'\n",
    "        else:\n",
    "            return 'Everything is ok'\n",
    "n=float(input())\n",
    "p=Myclass(n) \n",
    "print(p.func())"
   ]
  },
  {
   "cell_type": "code",
   "execution_count": 37,
   "id": "b58c29ac",
   "metadata": {},
   "outputs": [
    {
     "name": "stdout",
     "output_type": "stream",
     "text": [
      "['kedavro', 'avada', 'kedavro']\n",
      "'kedavro\n",
      "wrong word\n",
      "avada\n",
      "avada\n",
      "'kedavro\n",
      "wrong word\n",
      "kedavro\n",
      "1\n",
      "you win\n"
     ]
    }
   ],
   "source": [
    "import random\n",
    "words=['avada','kedavro','crucio','imperio']\n",
    "user_points=0\n",
    "random_list=[]\n",
    "\n",
    "input_list=[]\n",
    "for i in range(0,3):\n",
    "    x=random.choice(words)\n",
    "    random_list.append(x)\n",
    "print(random_list)\n",
    "while len(input_list)<3:\n",
    "    word=input()\n",
    "    if word not in words:\n",
    "        print('wrong word')\n",
    "    else:\n",
    "        input_list.append(word)\n",
    "for i in range(0,3):\n",
    "    if random_list[i]==input_list[i]:\n",
    "        user_points+=1\n",
    "    else:  \n",
    "        user_points-=1\n",
    "print(user_points)\n",
    "if user_points>0:\n",
    "    print('you win')\n",
    "else:\n",
    "    print('you lost')\n",
    "    \n",
    "    \n",
    "    \n",
    "        \n",
    "\n"
   ]
  },
  {
   "cell_type": "code",
   "execution_count": 36,
   "id": "bd8674bf",
   "metadata": {},
   "outputs": [
    {
     "name": "stdout",
     "output_type": "stream",
     "text": [
      "select yor words ['avada', 'kedavro', 'crucio', 'imperio']\n",
      "enter your word: ...  0 2 3\n",
      "you select  ['avada', 'crucio', 'imperio']\n",
      "you loss ['crucio', 'kedavro', 'avada']\n"
     ]
    }
   ],
   "source": [
    "import random\n",
    "\n",
    "\n",
    "class MyCompare:\n",
    "    __word = ['avada', 'kedavro', 'crucio', 'imperio']\n",
    "\n",
    "    def __init__(self):\n",
    "        print('select yor words', self.__word)\n",
    "        self.__random_words = self.__get_random_words()\n",
    "\n",
    "    def __get_random_words(self):\n",
    "        my_random = []\n",
    "        for i in range(0, 3):\n",
    "            x = random.choice(self.__word)\n",
    "            my_random.append(x)\n",
    "\n",
    "        return my_random\n",
    "\n",
    "    def compare(self, inputs_list):\n",
    "        user_points = 0\n",
    "        for i in range(0, len(inputs_list)):\n",
    "            if self.__random_words[i] == inputs_list[i]:\n",
    "                user_points += 1\n",
    "            else:\n",
    "                user_points -= 1\n",
    "\n",
    "        if user_points >= 2:\n",
    "            print('you win', self.__random_words)\n",
    "        else:\n",
    "            print('you loss', self.__random_words)\n",
    "\n",
    "    def is_exist(self, word):\n",
    "        return word in self.__word\n",
    "\n",
    "    def get_words_from_inputs(self, my_list):\n",
    "        __my_list = []\n",
    "        for item in my_list:\n",
    "            __my_list.append(self.__word[item])\n",
    "        print('you select ', __my_list)\n",
    "        return __my_list\n",
    "\n",
    "\n",
    "class MyInputs:\n",
    "    def __init__(self, my_cl):\n",
    "        self.__my_class = my_cl\n",
    "\n",
    "    def get_inputs(self):\n",
    "        __my_inputs = []\n",
    "        while len(__my_inputs) < 3:\n",
    "            __my_input = input('enter your word: ...  ')\n",
    "\n",
    "            __numeric = self.__is_numeric(__my_input)\n",
    "            if len(__numeric) == 3:\n",
    "                return self.__my_class.get_words_from_inputs(__numeric)\n",
    "\n",
    "            if self.__my_class.is_exist(__my_input):\n",
    "                __my_inputs.append(__my_input)\n",
    "            else:\n",
    "                print('wrong word', {__my_input})\n",
    "        return __my_inputs\n",
    "\n",
    "    @staticmethod\n",
    "    def __is_numeric(text):\n",
    "        __my_list = text.split()\n",
    "        __my_numeric_list = [s for s in __my_list if s.isdigit()]\n",
    "        return [int(x) for x in __my_numeric_list]\n",
    "\n",
    "\n",
    "my_compare = MyCompare()\n",
    "\n",
    "my_input = MyInputs(my_compare)\n",
    "\n",
    "inputs = my_input.get_inputs()\n",
    "\n",
    "my_compare.compare(inputs)\n"
   ]
  },
  {
   "cell_type": "code",
   "execution_count": null,
   "id": "8971d5e3",
   "metadata": {},
   "outputs": [],
   "source": []
  }
 ],
 "metadata": {
  "kernelspec": {
   "display_name": "Python 3",
   "language": "python",
   "name": "python3"
  },
  "language_info": {
   "codemirror_mode": {
    "name": "ipython",
    "version": 3
   },
   "file_extension": ".py",
   "mimetype": "text/x-python",
   "name": "python",
   "nbconvert_exporter": "python",
   "pygments_lexer": "ipython3",
   "version": "3.8.8"
  }
 },
 "nbformat": 4,
 "nbformat_minor": 5
}
